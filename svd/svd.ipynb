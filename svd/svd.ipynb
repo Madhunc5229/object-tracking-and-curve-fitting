{
 "cells": [
  {
   "cell_type": "code",
   "execution_count": 3,
   "id": "51d38a77-d78b-470f-a16f-624a07520442",
   "metadata": {},
   "outputs": [],
   "source": [
    "import numpy as np\n",
    "from numpy import linalg as LA"
   ]
  },
  {
   "cell_type": "code",
   "execution_count": 4,
   "id": "19df67cd-07d4-4977-8522-86927380d5f0",
   "metadata": {},
   "outputs": [],
   "source": [
    "X = np.array([[5,5,100,100],[150,5,200,80],[150,150,220,80],[5,150,100,200]])"
   ]
  },
  {
   "cell_type": "code",
   "execution_count": 5,
   "id": "5b261213-cbc4-411d-a938-9e224f89daa4",
   "metadata": {},
   "outputs": [],
   "source": [
    "x = X[0:4,0]\n",
    "y = X[0:4,1]\n",
    "xp = X[0:4,2]\n",
    "yp = X[0:4,3]"
   ]
  },
  {
   "cell_type": "code",
   "execution_count": 6,
   "id": "f6746bf4-00d2-423b-b7c5-91cc54f94c6c",
   "metadata": {},
   "outputs": [],
   "source": [
    "A = np.empty((8,9))"
   ]
  },
  {
   "cell_type": "code",
   "execution_count": 7,
   "id": "46160d94-e626-45ec-8f6e-724422413192",
   "metadata": {},
   "outputs": [],
   "source": [
    "#constructing A matrix\n",
    "for i in range(0,8,2):\n",
    "    j = int(i/2)\n",
    "    A[i] = [-x[j],-y[j],-1,0,0,0,(x[j]*xp[j]),(y[j]*xp[j]),xp[j]]\n",
    "\n",
    "for i in range(0,4):\n",
    "    j = (2*i+1)\n",
    "    A[j] = [0,0,0,-x[i],-y[i],-1,(x[i]*yp[i]),(y[i]*yp[i]),yp[i]] "
   ]
  },
  {
   "cell_type": "code",
   "execution_count": 8,
   "id": "13e7f6c8-4d6a-42e6-93f0-34d30add22eb",
   "metadata": {},
   "outputs": [],
   "source": [
    "#function to compute svd function\n",
    "def svd(A):\n",
    "\n",
    "    #Compute A^T*A\n",
    "    ATA = A.transpose().dot(A)\n",
    "\n",
    "    #Compute Eigen values of A^T*A\n",
    "    lam, v = LA.eig(ATA)\n",
    "    \n",
    "    #Compute singular values sv\n",
    "    sv = np.sqrt(lam)\n",
    "    \n",
    "    #Compute sigma diagonal matrix\n",
    "    sigma = np.zeros(A.shape)\n",
    "    for i in range(0,A.shape[0]):\n",
    "        sigma[i][i] = sv[i]\n",
    "    \n",
    "    #Compute U\n",
    "    U = np.zeros((A.shape[0],A.shape[0]))\n",
    "    for i in range(0,A.shape[0]):\n",
    "        Av = A.dot(v[:,i])\n",
    "        Ui = Av/sv[i]\n",
    "        U[i] = Ui\n",
    "        \n",
    "    #Compute V^T\n",
    "    vT = v.transpose()\n",
    "    UT = U.transpose()\n",
    "    \n",
    "    #SVD of the A array is:\n",
    "    return UT,sigma,vT"
   ]
  },
  {
   "cell_type": "code",
   "execution_count": 11,
   "id": "c50ad896-fc0f-4db2-9a2d-3edbf49462ae",
   "metadata": {},
   "outputs": [
    {
     "name": "stdout",
     "output_type": "stream",
     "text": [
      "Comparing A with reconstructed A: \n",
      "[[-5.0e+00 -5.0e+00 -1.0e+00  0.0e+00  0.0e+00  0.0e+00  5.0e+02  5.0e+02\n",
      "   1.0e+02]\n",
      " [ 0.0e+00  0.0e+00  0.0e+00 -5.0e+00 -5.0e+00 -1.0e+00  5.0e+02  5.0e+02\n",
      "   1.0e+02]\n",
      " [-1.5e+02 -5.0e+00 -1.0e+00  0.0e+00  0.0e+00  0.0e+00  3.0e+04  1.0e+03\n",
      "   2.0e+02]\n",
      " [ 0.0e+00  0.0e+00  0.0e+00 -1.5e+02 -5.0e+00 -1.0e+00  1.2e+04  4.0e+02\n",
      "   8.0e+01]\n",
      " [-1.5e+02 -1.5e+02 -1.0e+00  0.0e+00  0.0e+00  0.0e+00  3.3e+04  3.3e+04\n",
      "   2.2e+02]\n",
      " [ 0.0e+00  0.0e+00  0.0e+00 -1.5e+02 -1.5e+02 -1.0e+00  1.2e+04  1.2e+04\n",
      "   8.0e+01]\n",
      " [-5.0e+00 -1.5e+02 -1.0e+00  0.0e+00  0.0e+00  0.0e+00  5.0e+02  1.5e+04\n",
      "   1.0e+02]\n",
      " [ 0.0e+00  0.0e+00  0.0e+00 -5.0e+00 -1.5e+02 -1.0e+00  1.0e+03  3.0e+04\n",
      "   2.0e+02]]\n",
      "[[-5.0e+00 -5.0e+00 -1.0e+00 -0.0e+00  0.0e+00  0.0e+00  5.0e+02  5.0e+02\n",
      "   1.0e+02]\n",
      " [-0.0e+00 -0.0e+00  0.0e+00 -5.0e+00 -5.0e+00 -1.0e+00  5.0e+02  5.0e+02\n",
      "   1.0e+02]\n",
      " [-1.5e+02 -5.0e+00 -1.0e+00  0.0e+00 -0.0e+00  0.0e+00  3.0e+04  1.0e+03\n",
      "   2.0e+02]\n",
      " [ 0.0e+00  0.0e+00 -0.0e+00 -1.5e+02 -5.0e+00 -1.0e+00  1.2e+04  4.0e+02\n",
      "   8.0e+01]\n",
      " [-1.5e+02 -1.5e+02 -1.0e+00 -0.0e+00  0.0e+00 -0.0e+00  3.3e+04  3.3e+04\n",
      "   2.2e+02]\n",
      " [-0.0e+00  0.0e+00  0.0e+00 -1.5e+02 -1.5e+02 -1.0e+00  1.2e+04  1.2e+04\n",
      "   8.0e+01]\n",
      " [-5.0e+00 -1.5e+02 -1.0e+00  0.0e+00 -0.0e+00 -0.0e+00  5.0e+02  1.5e+04\n",
      "   1.0e+02]\n",
      " [ 0.0e+00 -0.0e+00 -0.0e+00 -5.0e+00 -1.5e+02 -1.0e+00  1.0e+03  3.0e+04\n",
      "   2.0e+02]]\n"
     ]
    },
    {
     "name": "stderr",
     "output_type": "stream",
     "text": [
      "/home/madhunc/anaconda3/envs/persp1/lib/python3.7/site-packages/ipykernel_launcher.py:11: RuntimeWarning: invalid value encountered in sqrt\n",
      "  # This is added back by InteractiveShellApp.init_path()\n"
     ]
    }
   ],
   "source": [
    "#Call the svd function\n",
    "u,s,v = svd(A)\n",
    "\n",
    "#Reconstruct A\n",
    "A_svd = (u.dot(s)).dot(v)\n",
    "\n",
    "#Verify A with reconstructed A\n",
    "print(\"Comparing A with reconstructed A: \")\n",
    "print(A)\n",
    "print(np.around((A_svd), decimals=0))"
   ]
  },
  {
   "cell_type": "code",
   "execution_count": 10,
   "id": "9a94fc8d-14e2-4115-8c64-4b0242f73935",
   "metadata": {},
   "outputs": [
    {
     "name": "stdout",
     "output_type": "stream",
     "text": [
      "X =  [ 5.31056350e-02 -4.91718843e-03  6.14648552e-01  1.77018784e-02\n",
      " -3.93375075e-03  7.86750146e-01  2.36025045e-04 -4.91718843e-05\n",
      "  7.62164204e-03]\n",
      "Homography matrix:  [[ 5.31056350e-02 -4.91718843e-03  6.14648552e-01]\n",
      " [ 1.77018784e-02 -3.93375075e-03  7.86750146e-01]\n",
      " [ 2.36025045e-04 -4.91718843e-05  7.62164204e-03]]\n"
     ]
    }
   ],
   "source": [
    "#Calculating the Homography matrix\n",
    "#The right singular vector corresponding \n",
    "#to least singular value is considered as the solution for Ax = 0\n",
    "\n",
    "#The last vector in v is the solution for Ax=0\n",
    "\n",
    "X_h = (v[-1,:])\n",
    "print(\"X = \",X_h)\n",
    "H = np.reshape(X_h,(3,3))\n",
    "print(\"Homography matrix: \",H)"
   ]
  }
 ],
 "metadata": {
  "kernelspec": {
   "display_name": "Python 3 (ipykernel)",
   "language": "python",
   "name": "python3"
  },
  "language_info": {
   "codemirror_mode": {
    "name": "ipython",
    "version": 3
   },
   "file_extension": ".py",
   "mimetype": "text/x-python",
   "name": "python",
   "nbconvert_exporter": "python",
   "pygments_lexer": "ipython3",
   "version": "3.7.11"
  },
  "toc-autonumbering": true
 },
 "nbformat": 4,
 "nbformat_minor": 5
}
